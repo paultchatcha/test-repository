{
 "cells": [
  {
   "cell_type": "markdown",
   "metadata": {},
   "source": [
    "# TORONTO NEIGHBORHOODS PROPOSAL FOR THE LAUNCH OF A NEW AFRICAN RESTAURANT."
   ]
  },
  {
   "cell_type": "markdown",
   "metadata": {},
   "source": [
    "## Business Problem"
   ]
  },
  {
   "cell_type": "markdown",
   "metadata": {},
   "source": [
    "For this project, we’ll keep working in the city of Toronto.\n",
    "In fact, we will assume that we have been engaged by a businessman who want to launch a new african restaurant in the city of Toronto.\n",
    "He wants us to dig into data and come out with a proposal of neighborhoods that best suit for his need."
   ]
  },
  {
   "cell_type": "markdown",
   "metadata": {},
   "source": [
    "## Data sources"
   ]
  },
  {
   "cell_type": "markdown",
   "metadata": {},
   "source": [
    "We we'll keep working  with data from three sources:\n",
    "<li>The wiki Toronto postal code page: <a href =\"https://en.wikipedia.org/wiki/List_of_postal_codes_of_Canada:_M\" >https://en.wikipedia.org/wiki/List_of_postal_codes_of_Canada:_M</a> \n",
    "To have to list of neighborhoods</li>\n",
    "<li>The file containing coordinates for boroughs, provided last week.</li>\n",
    "<li>The Foursquare API</li>\n"
   ]
  },
  {
   "cell_type": "markdown",
   "metadata": {},
   "source": [
    "## The methodology"
   ]
  },
  {
   "cell_type": "markdown",
   "metadata": {},
   "source": [
    "Foursquare API will be used to provide venues within each neighborhood, neighborhoods will be clustered and ordered by their distance to city centers.\n",
    "\n",
    "Since we are working with geographical data, the K-Means clustering technique, with his ability to reduce the space into disjoint smaller sub-spaces, best suits for this purpose.\n",
    "\n",
    "Going forward, the best neighborhood for the restaurant launch will be the one having the less venues categorized as african restaurant with the closet distance to city centers. \n"
   ]
  },
  {
   "cell_type": "code",
   "execution_count": null,
   "metadata": {},
   "outputs": [],
   "source": []
  }
 ],
 "metadata": {
  "kernelspec": {
   "display_name": "Python 3",
   "language": "python",
   "name": "python3"
  },
  "language_info": {
   "codemirror_mode": {
    "name": "ipython",
    "version": 3
   },
   "file_extension": ".py",
   "mimetype": "text/x-python",
   "name": "python",
   "nbconvert_exporter": "python",
   "pygments_lexer": "ipython3",
   "version": "3.6.8"
  }
 },
 "nbformat": 4,
 "nbformat_minor": 2
}
